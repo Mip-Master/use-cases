{
 "cells": [
  {
   "cell_type": "markdown",
   "metadata": {},
   "source": [
    "# Name of the use case"
   ]
  },
  {
   "cell_type": "markdown",
   "metadata": {},
   "source": [
    "_Author: Name of the author(s)_  \n",
    "_Month, Year_\n",
    "\n",
    "This is the documentation for the {*name of the use case*} use case, which is part of the [Learning Mip](https://mip-master.github.io/learning_mip/) project maintained by [Mip Master](https://mipmaster.org/)."
   ]
  },
  {
   "cell_type": "markdown",
   "metadata": {},
   "source": [
    "## Concepts\n",
    "* Concept 1\n",
    "* Concept 2\n",
    "* ..."
   ]
  },
  {
   "cell_type": "markdown",
   "metadata": {},
   "source": [
    "## Problem statement\n",
    "In this section we state a concise and clear definition of business problem being solved.  \n",
    "\n",
    "Besides concise and clear, we want our code and documentation to be as clean and consistent as possible across all use cases. This way we ensure a pleasant experience to our readers, facilitate communication between collaborators, and cut down designing time.\n",
    "\n",
    "$$4C: Clean, Clear, Concise, Consistent$$\n",
    "\n",
    "This template help us moving in right direction, but it takes more than a template to achieve 4C code and documentation."
   ]
  },
  {
   "cell_type": "markdown",
   "metadata": {},
   "source": [
    "## Input data\n",
    "Description of the input data, if appropriate."
   ]
  },
  {
   "cell_type": "markdown",
   "metadata": {},
   "source": [
    "## Formulation\n",
    "Now we populating each of the session below that compose a complete mathematical formulation of the optimization problem.\n",
    "\n",
    "We use in the implementation the exact same notation adopted in here. And we try as much as possible to stick to some conventions:\n",
    "\n",
    "- Set of indices are denoted with a single capital letter, preferably $I$, $J$, $K$, $T$.\n",
    "- Parameters are denoted with lower case letters, making suggestive choices whenever possible. For example, $c$ for cost, $p$ for penalty, $il$ and $iu$ for inventory lower and upper bound, $d$ for demand, etc.\n",
    "- Some letters are reserved for decision variables: $x$, $y$, $z$, $w$, $u$, $v$."
   ]
  },
  {
   "cell_type": "markdown",
   "metadata": {},
   "source": [
    "### Input Data Model"
   ]
  },
  {
   "cell_type": "markdown",
   "metadata": {},
   "source": [
    "#### Set of indices\n",
    "- $I$ Set of foods.  \n",
    "- $J$ Set of nutrients."
   ]
  },
  {
   "cell_type": "markdown",
   "metadata": {},
   "source": [
    "#### Parameters\n",
    "$c_i$ Per unit cost of ..."
   ]
  },
  {
   "cell_type": "markdown",
   "metadata": {},
   "source": [
    "### Decision Variables\n",
    "In this session we precisely define each decision variable that will be used to formulate the problem.\n",
    "- $x_i$\tthe amount of food $i$ to be consumed."
   ]
  },
  {
   "cell_type": "markdown",
   "metadata": {},
   "source": [
    "### Constraints\n",
    "Write and comment one type of constraint at a time.\n",
    "* Short description of the first constraint:\n",
    "$$x_1+2x_2+3x_3=6.$$\n",
    "\n",
    "* Short description of the second constraint:\n",
    "$$\\sum_{i=1}^3 y_{ij} = d_j, \\forall j.$$\n",
    "\n",
    "* Short description of the third constraint:\n",
    "$$y_{ij} \\leq x_i, \\forall i, j.$$"
   ]
  },
  {
   "cell_type": "markdown",
   "metadata": {},
   "source": [
    "### Objective\n",
    "Here is a description of the objective function followed by its definition.\n",
    "$$\\max{1.1x_1 + 2.2x_2 + 3.3x_3}.$$"
   ]
  },
  {
   "cell_type": "markdown",
   "metadata": {},
   "source": [
    "### Final formulation\n",
    "Putting everything together.\n",
    "$$\n",
    "\\begin{align*}\n",
    "&\\min &1.1x_1+2.2x_2+3.3x_3\\\\\n",
    "&\\text{s.t.} &x_1+2x_2+3x_3 =6\\\\\n",
    "&&\\sum_{i=1}^3 y_{ij} = d_j, \\quad \\forall j \\\\\n",
    "&&y_{ij} \\leq x_i, \\quad \\forall i, j\\\\\n",
    "&&x_i \\in \\{0, 1\\}, \\quad \\forall i \\in I\\\\\n",
    "&&y_{ij} \\geq 0, \\quad \\forall i \\in I, j \\in J\\\\\n",
    "\\end{align*}\n",
    "$$"
   ]
  }
 ],
 "metadata": {
  "kernelspec": {
   "display_name": "Python 3",
   "language": "python",
   "name": "python3"
  },
  "language_info": {
   "codemirror_mode": {
    "name": "ipython",
    "version": 3
   },
   "file_extension": ".py",
   "mimetype": "text/x-python",
   "name": "python",
   "nbconvert_exporter": "python",
   "pygments_lexer": "ipython3",
   "version": "3.7.3"
  }
 },
 "nbformat": 4,
 "nbformat_minor": 2
}
