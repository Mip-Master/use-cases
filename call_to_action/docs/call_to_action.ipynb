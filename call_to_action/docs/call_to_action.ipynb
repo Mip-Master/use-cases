{
 "cells": [
  {
   "cell_type": "markdown",
   "metadata": {},
   "source": [
    "# Call-to-Action"
   ]
  },
  {
   "cell_type": "markdown",
   "metadata": {},
   "source": [
    "*Author: Rohit Karvekar*  \n",
    "*July, 2021*\n",
    "\n",
    "This is the most basic implementation of Marketing Budget Optimization named as call_to_action, which is part of the [Learning Mip](https://mip-master.github.io/learning_mip/) project maintained by [Mip Master](https://mipmaster.org/)."
   ]
  },
  {
   "cell_type": "markdown",
   "metadata": {},
   "source": [
    "## Concepts Covered\n",
    "* The three steps to solve a problem\n",
    "* The three components of a formulation\n",
    "* Modeling with continuous decision variables\n",
    "* Implementation in python using Guro"
   ]
  },
  {
   "cell_type": "markdown",
   "metadata": {},
   "source": [
    "## Problem Statement\n",
    "Imagine that you have been tasked to optimally allocate funds to the following 4 marketing channels with a total annual budget of $1 million. \n",
    "\n",
    "$$Print, TV, SEO, and Social Media $$\n",
    "\n",
    "You want to <b>maximize ROI</b> across all the marketing channels above while making sure your marketing plan meets constraints put forward by the marketing team (discussed futher)"
   ]
  },
  {
   "cell_type": "markdown",
   "metadata": {},
   "source": [
    "## Input Data\n",
    "As one can imagine ROI and extent of customer penetration associated with each channel differs and lets assume you know that data already as below -\n",
    "\n",
    "<img src=\"./images/channels_roi_penetration.jpg\" width=\"500\">\n",
    "\n",
    "The number of customers in the market base is estimated to be around <b>1.5 million</b> people. \n",
    "\n",
    "Its wise not to put all the eggs into a single basket and hence the marketing team has come up with following business constraints -\n",
    "- Conventional Channels ($Print+ TV$) spend must be at least 40% of the total budget.\n",
    "- Print cost no more than $$100,000.\n",
    "- The marketing strategy says that $Social Media$ cost should be no more 3 times the $SEO$ costs."
   ]
  },
  {
   "cell_type": "markdown",
   "metadata": {},
   "source": [
    "## Formulation\n",
    "Typically, his formulations have three main components:\n",
    "\n",
    "1. Decision variables\n",
    "2. Constraints\n",
    "3. Objective function"
   ]
  },
  {
   "cell_type": "markdown",
   "metadata": {},
   "source": [
    "### Decision Variables\n",
    "Since we want to maximize ROI across all the marketing channels, our decision variable would be budget allocated to each of the 4 marketing channels:\n",
    "- $x_1$\tequals budget allocated to $Print$.\n",
    "- $x_2$\tequals budget allocated to $TV$.\n",
    "- $x_3$\tequals budget allocated to $SEO$.\n",
    "- $x_4$\tequals budget allocated to $Social Media$."
   ]
  },
  {
   "cell_type": "markdown",
   "metadata": {},
   "source": [
    "### Constraints\n",
    "\n",
    "* Maximum total budget available is $1 million:\n",
    "\n",
    "$$x_1+x_2+x_3+x_4<=1,000,000$$\n",
    "\n",
    "* Print and TV to account for at least 40% of the total budget:\n",
    "\n",
    "$$x_1+x_2>=1,000,000*0.40>=400,000$$\n",
    "\n",
    "* Print's budget can't exceed 100,000:\n",
    "\n",
    "$$x_1<=100,000$$\n",
    "\n",
    "* Social Media cost should be no more 3 times the SEO costs:\n",
    "\n",
    "$$x_4<=3x_3$$\n",
    "\n",
    "* Reach minimum viewers target (1.5 million)\n",
    "\n",
    "$$2.1x_1+2.5x_2+3.0x_3+0.9x_4>=1,500,000$$"
   ]
  },
  {
   "cell_type": "markdown",
   "metadata": {},
   "source": [
    "### Objective\n",
    "You want to <b>maximize ROI</b> across all the marketing channels:\n",
    "$$\\max{0.16x_1 + 0.09x_2 + 0.06x_3 + 0.14x_4}.$$"
   ]
  },
  {
   "cell_type": "markdown",
   "metadata": {},
   "source": [
    "### Final Formulation\n",
    "Putting everything together.\n",
    "\n",
    "$$\n",
    "\\begin{align*}\n",
    "&\\max &0.16x_1 + 0.09x_2 + 0.06x_3 + 0.14x_4\\\\\n",
    "&\\text{s.t.} &x_1+x_2+x_3+x_4<=1,000,000\\\\\n",
    "&&\\ x_1+x_2>=400,000\\\\\n",
    "&&\\ x_1<=100,000\\\\\n",
    "&&\\ x_4<=3x_3\\\\\n",
    "&&\\ 2.1x_1+2.5x_2+3.0x_3+0.9x_4>=1,500,000\\\\\n",
    "&&\\ x_i>0,\\quad \\forall i \\in I\\\\\n",
    "\\end{align*}\n",
    "$$"
   ]
  },
  {
   "cell_type": "markdown",
   "metadata": {},
   "source": [
    "## Implementation & Optimization\n",
    "Use the [Github Link](https://github.com/mip-master/learning_mip/blob/develop_Rohit/call_to_action/scripts/call_to_action_grb.py) for implemention of above problem in python using Gurobi."
   ]
  },
  {
   "cell_type": "markdown",
   "metadata": {},
   "source": [
    "## Challenge Yourself\n",
    "If you found the article useful, you’ll probably enjoy checking out this [post](https://medium.com/opex-analytics/tips-and-tricks-for-improving-or-models-a9509c426588) on tips and tricks to improve OR models, or some [notes](https://medium.com/opex-analytics/applying-gurobi-in-the-real-world-c9c2fd5e7310) on applying Gurobi in the real world."
   ]
  }
 ],
 "metadata": {
  "kernelspec": {
   "display_name": "Python 3",
   "language": "python",
   "name": "python3"
  },
  "language_info": {
   "codemirror_mode": {
    "name": "ipython",
    "version": 3
   },
   "file_extension": ".py",
   "mimetype": "text/x-python",
   "name": "python",
   "nbconvert_exporter": "python",
   "pygments_lexer": "ipython3",
   "version": "3.7.3"
  }
 },
 "nbformat": 4,
 "nbformat_minor": 2
}
