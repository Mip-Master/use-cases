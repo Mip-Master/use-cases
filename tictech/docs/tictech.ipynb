{
 "cells": [
  {
   "cell_type": "markdown",
   "metadata": {},
   "source": [
    "# TicTech"
   ]
  },
  {
   "cell_type": "markdown",
   "metadata": {},
   "source": [
    "*Author: Aster Santana*  \n",
    "*July, 2020*\n",
    "\n",
    "This is the documentation for the TicTech use case, which is part of the [Learning Mip](https://mip-master.github.io/learning_mip/) project maintained by [Mip Master](https://mipmaster.org/)."
   ]
  },
  {
   "cell_type": "markdown",
   "metadata": {},
   "source": [
    "## Concepts Covered\n",
    "* The three steps to solve a problem\n",
    "* The three components of a formulation\n",
    "* Modeling with binary decision variables\n",
    "* Calling a MIP solver"
   ]
  },
  {
   "cell_type": "markdown",
   "metadata": {},
   "source": [
    "## Problem Statement\n",
    "Mr. Mip has been contacted by *TicTech*, an organization that is now going through a digital transformation and needs to make an important decision. They need to decide on the right type of technology that will support them making complex decisions as their business grow.\n",
    "\n",
    "After reading a [blog](https://medium.com/opex-analytics/purpose-built-apps-for-enterprise-decision-making-31ccadad362d) about technologies for decision-making, Mr. Mip arrived at three options:\n",
    "1. Consulting services\n",
    "2. Off-the-shelf software\n",
    "3. Purpose-built web applications (Apps)\n",
    "\n",
    "By analyzing pos and cons of each technology in the context of TicTech, Mr. Mip derived in collaboration with them a score to each technology as follows: \n",
    "$$\n",
    "12-\\text{Consulting}, 17-\\text{Software}, 25-\\text{Apps}.\n",
    "$$\n",
    "What technology should be selected?\n",
    "\n",
    "Assuming that Mr. Mip he can only recommend one technology and the goal is to maximize the score, it’s obvious that TicTech should pick apps. However, Mr. Mip is a MIP fanatic! And sometimes he uses MIP just for fun. And sometimes just for teaching others how to use this fantastic technology! So, let’s see how he solved this baby problem using MIP.\n",
    "\n",
    "Mr. Mip always breaks the problem in three major steps:\n",
    "1. *Understanding the business problem*: Identifying all the requirements of the problem, including the data.\n",
    "2. *Mathematical formulation*: Writing a precise mathematical representation of the problem.\n",
    "3. *Model implementation and optimization*: Coding the formulation as an optimization model and using an optimization solver to compute the best solution.\n"
   ]
  },
  {
   "cell_type": "markdown",
   "metadata": {},
   "source": [
    "## Input Data\n",
    "Description of the input data, if appropriate."
   ]
  },
  {
   "cell_type": "markdown",
   "metadata": {},
   "source": [
    "## Formulation\n",
    "For Mr. Mip, formulation is nothing but a very precise representation of the business problem in mathematical terms.\n",
    "\n",
    "Typically, his formulations have three main components:\n",
    "1.\tDecision variables\n",
    "2.\tConstraints\n",
    "3.\tObjective function"
   ]
  },
  {
   "cell_type": "markdown",
   "metadata": {},
   "source": [
    "### Decision Variables\n",
    "While there might be multiples ways to define the decision variables, choosing a good set of variables is crucial. Because, once the variables are defined, constraints and the objective are defined as functions of it.\n",
    "\n",
    "For this problem, Mr. Mip defined three binary variables:\n",
    "\n",
    "- $x_1$\tequals $1$ if consulting is chosen, $0$ otherwise.\n",
    "- $x_2$\tequals $1$ if off-the-shelf software is chosen, $0$ otherwise.\n",
    "- $x_3$\tequals $1$ if purpose-built apps are chosen, $0$ otherwise."
   ]
  },
  {
   "cell_type": "markdown",
   "metadata": {},
   "source": [
    "### Constraints\n",
    "In this use case, there is only one requirement: one, and only one, technology must be chosen.\n",
    "Mr. Mip formulated this requirement using a single constraint.\n",
    "\n",
    "* Exactly one technology:\n",
    "$$x_1+x_2+x_3=1.$$\n",
    "\n",
    "Take a moment to think why this equation does the work.\n",
    "Can you think of an alternative way? There is a hint$^1$ at the end if you need."
   ]
  },
  {
   "cell_type": "markdown",
   "metadata": {},
   "source": [
    "### Objective\n",
    "The objective of this problem is to maximize the score, which Mr. Mip formulated as following.\n",
    "\n",
    "$$\\max{12x_1 + 17x_2 + 25x_3}.$$\n",
    "\n",
    "Take another moment to think why this objective function does the work."
   ]
  },
  {
   "cell_type": "markdown",
   "metadata": {},
   "source": [
    "### Final Formulation\n",
    "Putting all together, Mr. Mip arrived at the following formulation.\n",
    "$$\n",
    "\\begin{align*}\n",
    "\\min & \\quad 12x_1+17x_2+25x_3\\\\\n",
    "\\text{s.t.} & \\quad x_1+x_2+x_3 =1\\\\\n",
    "&x_1, x_2, x_3 \\in \\{0, 1\\}, \\quad \\forall i \\in I\n",
    "\\end{align*}\n",
    "$$"
   ]
  },
  {
   "cell_type": "markdown",
   "metadata": {},
   "source": [
    "## Implementation & Optimization\n",
    "For Mr. Mip, implementation is the translation of the mathematical formulation into a language that computers understand. \n",
    "\n",
    "There are many programming and modeling languages we can choose from to implement MIP models. Below are three implementations of the formulation above, each using a different solver. One thing you will notice is that they all look very simmilar, except for some minor variation of syntaxe. And they all look very much like the actual mathematical formulation.\n",
    "\n",
    "The python script of each implementation is available in the Mip Master [repository](https://github.com/mip-master/learning_mip/) on GitHub.\n",
    "\n",
    "This code is very readable, but is a breakdown of the steps:\n",
    "1. Import the package.\n",
    "2. Initialize a model instance and gives it a name.\n",
    "3. Add the three decision variables at once from a list of indices and give it a name.\n",
    "4. Add the only constraint of the model and give it a name.\n",
    "5. Set the objective function.\n",
    "6. Call the optimizer.\n",
    "7. Retrieve and print out the solution.\n",
    "\n",
    "The output is a dictionary that look like this: `{1: 0.0, 2: 0.0, 3: 1.0}`.\n",
    "\n",
    "From here, Mr. Mip concludes that the optimal solution is:\n",
    "\n",
    "$$x_1=0,x_2=0,x_3=1,$$\n",
    "\n",
    "which means that apps is the right technology for TicTech, as we already knew."
   ]
  },
  {
   "cell_type": "markdown",
   "metadata": {},
   "source": [
    "### Implementation Using CPLEX\n",
    "Requires the installation of the [CPLEX](https://www.ibm.com/analytics/cplex-optimizer) solver (which is a comercial solver) in addition to the [docplex](https://pypi.org/project/docplex/) package Python."
   ]
  },
  {
   "cell_type": "code",
   "execution_count": null,
   "metadata": {},
   "outputs": [],
   "source": [
    "import docplex.mp.model as cpl\n",
    "\n",
    "# Define the model\n",
    "mdl = cpl.Model('TicTech')\n",
    "\n",
    "# Add variables\n",
    "x = mdl.var_dict(keys=[1, 2, 3], vartype=mdl.binary_vartype, name='x')\n",
    "\n",
    "# Add Constraints\n",
    "mdl.add_constraint(x[1] + x[2] + x[3] == 1, ctname='exactly_one_tech')\n",
    "\n",
    "# Set the objective function\n",
    "mdl.maximize(12 * x[1] + 17 * x[2] + 25 * x[3])\n",
    "\n",
    "# Optimize\n",
    "mdl.solve()\n",
    "\n",
    "# Retrieve the solution\n",
    "x_sol = {i: x[i].solution_value for i in [1, 2, 3]}\n",
    "print(f'x = {x_sol}')"
   ]
  },
  {
   "cell_type": "markdown",
   "metadata": {},
   "source": [
    "### Implementation Using Gurobi\n",
    "Requires the installation of the [Gurobi](https://www.gurobi.com/) solver (which is a comercial solver) in addition to the [gurobipy](https://pypi.org/project/gurobipy/) package in Python."
   ]
  },
  {
   "cell_type": "code",
   "execution_count": null,
   "metadata": {},
   "outputs": [],
   "source": [
    "import gurobipy as gp\n",
    "\n",
    "# Define the model\n",
    "mdl = gp.Model('TicTech')\n",
    "\n",
    "# Add variables\n",
    "x = mdl.addVars([1, 2, 3], vtype=gp.GRB.BINARY, name='x')\n",
    "\n",
    "# Add Constraints\n",
    "mdl.addConstr(x[1] + x[2] + x[3] == 1, name='exactly_one_tech')\n",
    "\n",
    "# Set the objective function\n",
    "mdl.setObjective(12 * x[1] + 17 * x[2] + 25 * x[3], sense=gp.GRB.MAXIMIZE)\n",
    "\n",
    "# Optimize\n",
    "mdl.optimize()\n",
    "\n",
    "# Retrieve the solution\n",
    "x_sol = {i: x[i].X for i in [1, 2, 3]}\n",
    "print(f'x = {x_sol}')"
   ]
  },
  {
   "cell_type": "markdown",
   "metadata": {},
   "source": [
    "### Implementation Using PuLP\n",
    "Requires the installation of the [pulp](https://pypi.org/project/PuLP/) package in Python. PuLP by default calls the [Cbc](https://github.com/coin-or/Cbc) solver (wich is open source) and doesn't require further installations."
   ]
  },
  {
   "cell_type": "code",
   "execution_count": null,
   "metadata": {},
   "outputs": [],
   "source": [
    "import pulp\n",
    "\n",
    "# Define the model\n",
    "mdl = pulp.LpProblem('TicTech', sense=pulp.LpMaximize)\n",
    "\n",
    "# Add variables\n",
    "x = pulp.LpVariable.dicts(indexs=[1, 2, 3], cat=pulp.LpBinary, name='x')\n",
    "\n",
    "# Add Constraints\n",
    "mdl.addConstraint(x[1] + x[2] + x[3] == 1, name='exactly_one_tech')\n",
    "\n",
    "# Set the objective function\n",
    "mdl.setObjective(12 * x[1] + 17 * x[2] + 25 * x[3])\n",
    "\n",
    "# Optimize\n",
    "mdl.solve()\n",
    "\n",
    "# Retrieve the solution\n",
    "x_sol = {i: x[i].value() for i in [1, 2, 3]}\n",
    "print(f'x = {x_sol}')"
   ]
  },
  {
   "cell_type": "markdown",
   "metadata": {},
   "source": [
    "## Challenge Yourself\n",
    "1. Convince yourself that the following are also correct formulations for the TicTech problem.\n",
    "    - Formulation 1:\n",
    "        $$\n",
    "        \\begin{align*}\n",
    "        \\min & \\quad 12x_1+17x_2+25x_3\\\\\n",
    "        \\text{s.t.} & \\quad x_1+x_2+x_3 \\leq 1\\\\\n",
    "        &x_1, x_2, x_3 \\in \\{0, 1\\}, \\quad \\forall i \\in I.\n",
    "        \\end{align*}\n",
    "        $$\n",
    "    - Formulation 2:\n",
    "        $$\n",
    "        \\begin{align*}\n",
    "        \\min & \\quad 12x_1+17x_2+25x_3\\\\\n",
    "        \\text{s.t.} & \\quad x_1+x_2 \\leq 1\\\\\n",
    "        & x_1+x_3 \\leq 1\\\\\n",
    "        & x_2+x_3 \\leq 1\\\\\n",
    "        &x_1, x_2, x_3 \\in \\{0, 1\\}, \\quad \\forall i \\in I.\n",
    "        \\end{align*}\n",
    "        $$\n",
    "        \n",
    "2. Implement the two new formulations in 1 to see that you obtain the same solution."
   ]
  },
  {
   "cell_type": "markdown",
   "metadata": {},
   "source": [
    "## Takeaways\n",
    "1.\tThere are three major steps in solving problems using MIP:\n",
    "    1.\tUnderstanding the problem.\n",
    "    2.\tWriting a mathematical formulation.\n",
    "    3.\tImplementing and solving the optimization model.\n",
    "2.\tA typical formulation has three main components:\n",
    "    1.\tDecision variables\n",
    "    2.\tConstraints\n",
    "    3.\tObjective function\n",
    "3.\tThere may be multiple ways to formulate and solve the same problem.\n",
    "4.\tIt’s easy to code and solve an optimization model using a solver!"
   ]
  },
  {
   "cell_type": "markdown",
   "metadata": {},
   "source": [
    "---\n",
    "1. How about using three constraints, involving two variables at a time?"
   ]
  }
 ],
 "metadata": {
  "kernelspec": {
   "display_name": "Python 3",
   "language": "python",
   "name": "python3"
  },
  "language_info": {
   "codemirror_mode": {
    "name": "ipython",
    "version": 3
   },
   "file_extension": ".py",
   "mimetype": "text/x-python",
   "name": "python",
   "nbconvert_exporter": "python",
   "pygments_lexer": "ipython3",
   "version": "3.7.3"
  }
 },
 "nbformat": 4,
 "nbformat_minor": 2
}
